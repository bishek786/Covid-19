{
 "cells": [
  {
   "cell_type": "markdown",
   "metadata": {
    "id": "t8rlRGrprZ3r"
   },
   "source": [
    "\n",
    "![alt text](https://i.imgur.com/HWXuFrR.png)"
   ]
  },
  {
   "cell_type": "markdown",
   "metadata": {
    "id": "YZRcLPvedhCH"
   },
   "source": [
    "#COVID-19 - Pandemic in India!"
   ]
  },
  {
   "cell_type": "markdown",
   "metadata": {
    "id": "RkCHpmwkFOtU"
   },
   "source": [
    "##About COVID-19"
   ]
  },
  {
   "cell_type": "markdown",
   "metadata": {
    "id": "xFi2gCYLEAp6"
   },
   "source": [
    "The **coronavirus (COVID-19)** pandemic is the greatest global humanitarian challenge the world has faced since World War II. The pandemic virus has spread widely, and the number of cases is rising daily. The government is working to slow down its spread.\n",
    "\n",
    "Till date it has spread across 215 countries infecting 5,491,194 people and killing 346,331 so far. In India, as many as 138,536 COVID-19 cases have been reported so far. Of these, 57,692 have recovered and 4,024 have died. \n",
    "COVID19 "
   ]
  },
  {
   "cell_type": "markdown",
   "metadata": {
    "id": "jj7ZlQDsmWam"
   },
   "source": [
    "**Corona Virus Explained in Simple Terms:**\n",
    "- Let's say Raghav got infected yesterday, but he won't know it untill next 14 days\n",
    "- Raghav thinks he is healthy but he is infecting 10 persons per day\n",
    "- Now these 10 persons think they are completely healthy, they travel, go out and infect 100 others\n",
    "- These 100 persons think they are healthy but they have already infected 1000 persons\n",
    "- No one knows who is healthy or who can infect you\n",
    "- All you can do is be responsible, stay in quarentine\n",
    "\n",
    "![alt text](https://i.imgur.com/nf2kMhF.jpg)"
   ]
  },
  {
   "cell_type": "markdown",
   "metadata": {
    "id": "oTiw0LbXCmeW"
   },
   "source": [
    "##Problem Statement:"
   ]
  },
  {
   "cell_type": "markdown",
   "metadata": {
    "id": "KW3k0TQcFEO4"
   },
   "source": [
    "India has responded quickly, implementing a proactive, nationwide, lockdown, to flatten the curve and use the time to plan and resource responses adequately. As of 23rd May 2020, India has witnessed 3720 deaths from 32 States and Union Territories, with a total of 123202 confirmed cases due to COVID-19. Globally the Data Scientists are using AI and machine learning to analyze, predict, and take safety measures against COVID-19 in India. \n",
    "\n",
    "### Goal:\n",
    "We need a explore the COVID situation in India and the world, and strong model that predicts how the virus could spread across India in the next 15 days.\n",
    "###Tasks to be performed:\n",
    "- Analyze the present condition in India\n",
    "- Scrape out the COVID-19 from websites\n",
    "- Figure out the death rate and cure rate per 100 across the affected states\n",
    "- Create different charts to visualize the following: \n",
    " - Age group distribution of affected patients\n",
    " - Total sample test done till date\n",
    " - Growth rate of COVID in top 15 states\n",
    " - Top 10 States in each health facility\n",
    " - State wise testing insight\n",
    "- ICMR testing centres in each state\n",
    "- Use Prophet to predict the confirmed cases in India\n",
    "- Use ARIMA to predict the confirmed cases in India\n",
    "- Compare the Indian COVID cases globally"
   ]
  },
  {
   "cell_type": "markdown",
   "metadata": {
    "id": "bnu_YAjjFxOu"
   },
   "source": [
    "###Importing the required libraries"
   ]
  },
  {
   "cell_type": "code",
   "execution_count": 1,
   "metadata": {
    "_kg_hide-input": true,
    "_kg_hide-output": true,
    "id": "BRQ9saONdhCQ"
   },
   "outputs": [
    {
     "ename": "ModuleNotFoundError",
     "evalue": "No module named 'seaborn'",
     "output_type": "error",
     "traceback": [
      "\u001b[1;31m---------------------------------------------------------------------------\u001b[0m",
      "\u001b[1;31mModuleNotFoundError\u001b[0m                       Traceback (most recent call last)",
      "Cell \u001b[1;32mIn [1], line 7\u001b[0m\n\u001b[0;32m      5\u001b[0m \u001b[38;5;28;01mimport\u001b[39;00m \u001b[38;5;21;01mmatplotlib\u001b[39;00m\u001b[38;5;21;01m.\u001b[39;00m\u001b[38;5;21;01mpyplot\u001b[39;00m \u001b[38;5;28;01mas\u001b[39;00m \u001b[38;5;21;01mplt\u001b[39;00m\n\u001b[0;32m      6\u001b[0m get_ipython()\u001b[38;5;241m.\u001b[39mrun_line_magic(\u001b[38;5;124m'\u001b[39m\u001b[38;5;124mmatplotlib\u001b[39m\u001b[38;5;124m'\u001b[39m, \u001b[38;5;124m'\u001b[39m\u001b[38;5;124minline\u001b[39m\u001b[38;5;124m'\u001b[39m)\n\u001b[1;32m----> 7\u001b[0m \u001b[38;5;28;01mimport\u001b[39;00m \u001b[38;5;21;01mseaborn\u001b[39;00m \u001b[38;5;28;01mas\u001b[39;00m \u001b[38;5;21;01msns\u001b[39;00m\n\u001b[0;32m      8\u001b[0m \u001b[38;5;28;01mimport\u001b[39;00m \u001b[38;5;21;01mplotly\u001b[39;00m\u001b[38;5;21;01m.\u001b[39;00m\u001b[38;5;21;01mexpress\u001b[39;00m \u001b[38;5;28;01mas\u001b[39;00m \u001b[38;5;21;01mpx\u001b[39;00m\n\u001b[0;32m      9\u001b[0m \u001b[38;5;28;01mimport\u001b[39;00m \u001b[38;5;21;01mplotly\u001b[39;00m\u001b[38;5;21;01m.\u001b[39;00m\u001b[38;5;21;01mgraph_objects\u001b[39;00m \u001b[38;5;28;01mas\u001b[39;00m \u001b[38;5;21;01mgo\u001b[39;00m\n",
      "\u001b[1;31mModuleNotFoundError\u001b[0m: No module named 'seaborn'"
     ]
    }
   ],
   "source": [
    "# importing the required libraries\n",
    "import pandas as pd\n",
    "\n",
    "# Visualisation libraries\n",
    "import matplotlib.pyplot as plt\n",
    "%matplotlib inline\n",
    "import seaborn as sns\n",
    "import plotly.express as px\n",
    "import plotly.graph_objects as go\n",
    "import folium \n",
    "from folium import plugins\n",
    "\n",
    "# Manipulating the default plot size\n",
    "plt.rcParams['figure.figsize'] = 10, 12\n",
    "\n",
    "# Disable warnings \n",
    "import warnings\n",
    "warnings.filterwarnings('ignore')"
   ]
  },
  {
   "cell_type": "markdown",
   "metadata": {
    "id": "dFhorHIrdhCq"
   },
   "source": [
    "# Part 1: Analysing the present condition in India\n"
   ]
  },
  {
   "cell_type": "markdown",
   "metadata": {
    "id": "gpi83iahUixw"
   },
   "source": [
    "**How it started in India?:** \n",
    "\n",
    "The first **COVID-19** case was reported on 30th January 2020 when a student arrived **Kerala** from Wuhan. Just in next 2 days, Kerela reported 2 more cases. For almost a month, no new cases were reported in India, however, on 2nd March 2020, five new cases of corona virus were reported in Kerala again and since then the cases have been rising affecting **25** states, till now *(Bihar and Manipur being the most recent)*. Here is a brief timeline of the cases in India.\n",
    "###COVID-19 in India - Timeline\n",
    " <br>\n",
    "\n",
    "\n",
    "![](https://i.imgur.com/iEgxlkm.png)"
   ]
  },
  {
   "cell_type": "markdown",
   "metadata": {
    "id": "Rzy4cScWBiAd"
   },
   "source": [
    "##Recent COVID-19 updates in India"
   ]
  },
  {
   "cell_type": "markdown",
   "metadata": {
    "id": "8GshVqvREFj2"
   },
   "source": [
    "- Sikkim on Saturday reported its first +ve COVID-19 case\n",
    "- With over 6,500 fresh cases, the Covid in India rose to 1,25,101 on Saturday morning, with 3,720 fatalities\n",
    "- West Bengal asks Railways not to send migrant trains to State till May 26 in view of Cyclone Amphan\n",
    "- 196 new COVID 19 positive cases were reported in Karnataka on Saturday\n",
    "- Complete lockdown in Bengaluru on Sunday. \n",
    " - Bruhat Bengaluru Mahanagara Palike (BBMP) Commissioner B.H. Anil Kumar said the conditions and restrictions on Sunday will be similar to that under coronavirus lockdown 1.0.\n"
   ]
  },
  {
   "cell_type": "markdown",
   "metadata": {
    "id": "DcgTa3be1-LZ"
   },
   "source": [
    "## How is AI-ML useful in fighting the COVID-19 pandemic?\n",
    "- Medical resource optimization\n",
    "- Ensuring demand planning stability\n",
    "- Contact tracing \n",
    "- Situational awareness and critical response analysis\n"
   ]
  },
  {
   "cell_type": "markdown",
   "metadata": {
    "id": "QLaxaOyJJvU7"
   },
   "source": [
    "## 1.1 Scraping the datasets from the [official Govt. website](https://www.mohfw.gov.in)\n"
   ]
  },
  {
   "cell_type": "code",
   "execution_count": null,
   "metadata": {
    "id": "DhAsbPu929HV"
   },
   "outputs": [],
   "source": [
    "# for date and time opeations\n",
    "from datetime import datetime\n",
    "# for file and folder operations\n",
    "import os\n",
    "# for regular expression opeations\n",
    "import re\n",
    "# for listing files in a folder\n",
    "import glob\n",
    "# for getting web contents\n",
    "import requests \n",
    "# for scraping web contents\n",
    "from bs4 import BeautifulSoup"
   ]
  },
  {
   "cell_type": "code",
   "execution_count": null,
   "metadata": {
    "id": "HDoPc3Du2_RL"
   },
   "outputs": [],
   "source": [
    "# get data\n",
    "\n",
    "# link at which web data recides\n",
    "link = 'https://www.mohfw.gov.in/'\n",
    "# get web data\n",
    "req = requests.get(link)\n",
    "# parse web data\n",
    "soup = BeautifulSoup(req.content, \"html.parser\")"
   ]
  },
  {
   "cell_type": "code",
   "execution_count": null,
   "metadata": {
    "colab": {
     "base_uri": "https://localhost:8080/"
    },
    "id": "z_mDt6ePmZmv",
    "outputId": "3193db47-18a9-4db5-c3e2-5cb5db161802"
   },
   "outputs": [],
   "source": [
    "soup.head()\n"
   ]
  },
  {
   "cell_type": "code",
   "execution_count": null,
   "metadata": {
    "colab": {
     "base_uri": "https://localhost:8080/",
     "height": 236
    },
    "id": "UGN4i9qq3YZ3",
    "outputId": "20ee8740-96da-4a0d-e751-2818559ef183"
   },
   "outputs": [],
   "source": [
    "# find the table\n",
    "# ==============\n",
    "# our target table is the last table in the page\n",
    "\n",
    "# get the table head\n",
    "# table head may contain the column names, titles, subtitles\n",
    "thead = soup.find_all('thead')[-1]\n",
    "# print(thead)\n",
    "\n",
    "# get all the rows in table head\n",
    "# it usually have only one row, which has the column names\n",
    "head = thead.find_all('tr')\n",
    "# print(head)\n",
    "\n",
    "# get the table tbody\n",
    "# it contains the contents\n",
    "tbody = soup.find_all('tbody')[-1]\n",
    "# print(tbody)\n",
    "\n",
    "# get all the rows in table body\n",
    "# each row is each state's entry\n",
    "body = tbody.find_all('tr')\n",
    "# print(body)"
   ]
  },
  {
   "cell_type": "code",
   "execution_count": null,
   "metadata": {
    "colab": {
     "base_uri": "https://localhost:8080/",
     "height": 236
    },
    "id": "aw3L-OoK2wD5",
    "outputId": "6020c126-0067-48f4-9b0c-687885a49c70"
   },
   "outputs": [],
   "source": [
    "# get the table contents\n",
    "# ======================\n",
    "\n",
    "# container for header rows / column title\n",
    "head_rows = []\n",
    "# container for table body / contents\n",
    "body_rows = []\n",
    "\n",
    "# loop through the head and append each row to head\n",
    "for tr in head:\n",
    "    td = tr.find_all(['th', 'td'])\n",
    "    row = [i.text for i in td]\n",
    "    head_rows.append(row)\n",
    "# print(head_rows)\n",
    "\n",
    "# loop through the body and append each row to body\n",
    "for tr in body:\n",
    "    td = tr.find_all(['th', 'td'])\n",
    "    row = [i.text for i in td]\n",
    "    body_rows.append(row)\n",
    "# print(head_rows)"
   ]
  },
  {
   "cell_type": "code",
   "execution_count": null,
   "metadata": {
    "colab": {
     "base_uri": "https://localhost:8080/",
     "height": 236
    },
    "id": "-dSVdO2d2wEE",
    "outputId": "31e8894a-e729-45d6-dc03-d3c16e7a4fa6"
   },
   "outputs": [],
   "source": [
    "# save contents in a dataframe\n",
    "# ============================\n",
    "    \n",
    "# skip last 3 rows, it contains unwanted info\n",
    "# head_rows contains column title\n",
    "df_bs = pd.DataFrame(body_rows[:len(body_rows)-6], \n",
    "                     columns=head_rows[0])         \n",
    "\n",
    "# Drop 'S. No.' column\n",
    "df_bs.drop('S. No.', axis=1, inplace=True)\n",
    "\n",
    "# there are 36 states+UT in India\n",
    "df_bs.head(36)"
   ]
  },
  {
   "cell_type": "markdown",
   "metadata": {
    "id": "zolKuSV42wEO"
   },
   "source": [
    "# Data Cleaning"
   ]
  },
  {
   "cell_type": "code",
   "execution_count": null,
   "metadata": {
    "id": "_OSYvlRv2wEQ"
   },
   "outputs": [],
   "source": [
    "# date-time information\n",
    "# =====================\n",
    "#saving a copy of the dataframe\n",
    "df_India = df_bs.copy()\n",
    "# today's date\n",
    "now  = datetime.now()\n",
    "# format date to month-day-year\n",
    "df_India['Date'] = now.strftime(\"%m/%d/%Y\") \n",
    "\n",
    "# add 'Date' column to dataframe\n",
    "df_India['Date'] = pd.to_datetime(df_India['Date'], format='%m/%d/%Y')\n",
    "\n",
    "# df_India.head(36)"
   ]
  },
  {
   "cell_type": "code",
   "execution_count": null,
   "metadata": {
    "id": "D46MC3DY2wEo"
   },
   "outputs": [],
   "source": [
    "# remove extra characters from 'Name of State/UT' column\n",
    "df_India['Name of State / UT'] = df_India['Name of State / UT'].str.replace('#', '')\n",
    "df_India['Deaths**'] = df_India['Deaths**'].str.replace('#', '')"
   ]
  },
  {
   "cell_type": "code",
   "execution_count": null,
   "metadata": {
    "id": "n0NFUq_A2wEw"
   },
   "outputs": [],
   "source": [
    "# latitude and longitude information\n",
    "# ==================================\n",
    "\n",
    "# latitude of the states\n",
    "lat = {'Delhi':28.7041, 'Haryana':29.0588, 'Kerala':10.8505, 'Rajasthan':27.0238,\n",
    "       'Telengana':18.1124, 'Uttar Pradesh':26.8467, 'Ladakh':34.2996, 'Tamil Nadu':11.1271,\n",
    "       'Jammu and Kashmir':33.7782, 'Punjab':31.1471, 'Karnataka':15.3173, 'Maharashtra':19.7515,\n",
    "       'Andhra Pradesh':15.9129, 'Odisha':20.9517, 'Uttarakhand':30.0668, 'West Bengal':22.9868, \n",
    "       'Puducherry': 11.9416, 'Chandigarh': 30.7333, 'Chhattisgarh':21.2787, 'Gujarat': 22.2587, \n",
    "       'Himachal Pradesh': 31.1048, 'Madhya Pradesh': 22.9734, 'Bihar': 25.0961, 'Manipur':24.6637, \n",
    "       'Mizoram':23.1645, 'Goa': 15.2993, 'Andaman and Nicobar Islands': 11.7401, 'Assam' : 26.2006, \n",
    "       'Jharkhand': 23.6102, 'Arunachal Pradesh': 28.2180, 'Tripura': 23.9408, 'Nagaland': 26.1584, \n",
    "       'Meghalaya' : 25.4670, 'Dadar Nagar Haveli' : 20.1809, 'Sikkim': 27.5330}\n",
    "\n",
    "# longitude of the states\n",
    "long = {'Delhi':77.1025, 'Haryana':76.0856, 'Kerala':76.2711, 'Rajasthan':74.2179,\n",
    "        'Telengana':79.0193, 'Uttar Pradesh':80.9462, 'Ladakh':78.2932, 'Tamil Nadu':78.6569,\n",
    "        'Jammu and Kashmir':76.5762, 'Punjab':75.3412, 'Karnataka':75.7139, 'Maharashtra':75.7139,\n",
    "        'Andhra Pradesh':79.7400, 'Odisha':85.0985, 'Uttarakhand':79.0193, 'West Bengal':87.8550, \n",
    "        'Puducherry': 79.8083, 'Chandigarh': 76.7794, 'Chhattisgarh':81.8661, 'Gujarat': 71.1924, \n",
    "        'Himachal Pradesh': 77.1734, 'Madhya Pradesh': 78.6569, 'Bihar': 85.3131, 'Manipur':93.9063, \n",
    "        'Mizoram':92.9376, 'Goa': 74.1240, 'Andaman and Nicobar Islands': 92.6586, 'Assam' : 92.9376, \n",
    "        'Jharkhand': 85.2799, 'Arunachal Pradesh': 94.7278, 'Tripura': 91.9882, 'Nagaland': 94.5624,\n",
    "        'Meghalaya' : 91.3662, 'Dadar Nagar Haveli' : 73.0169, 'Sikkim': 88.5122}\n",
    "\n",
    "# add latitude column based on 'Name of State / UT' column\n",
    "df_India['Latitude'] = df_India['Name of State / UT'].map(lat)\n",
    "\n",
    "# add longitude column based on 'Name of State / UT' column\n",
    "df_India['Longitude'] = df_India['Name of State / UT'].map(long)\n",
    "\n",
    "df_India.head(36)"
   ]
  },
  {
   "cell_type": "code",
   "execution_count": null,
   "metadata": {
    "id": "ZmMeGKySrBgr"
   },
   "outputs": [],
   "source": [
    "\n",
    "# rename columns\n",
    "    \n",
    "df_India = df_India.rename(columns={'Cured/Discharged/Migrated' :'Cured/Discharged', \n",
    "                                      'Total Confirmed cases *': 'Confirmed', \n",
    "                                      'Total Confirmed cases ': 'Confirmed', \n",
    "                                      'Total Confirmed cases* ': 'Confirmed'})\n",
    "df_India = df_India.rename(columns={'Cured/Discharged':'Cured'})\n",
    "df_India = df_India.rename(columns={'Name of State / UT':'State/UnionTerritory'})\n",
    "df_India = df_India.rename(columns={'Name of State / UT':'State/UnionTerritory'})\n",
    "\n",
    "df_India = df_India.rename(columns=lambda x: re.sub('Total Confirmed cases \\(Including .* foreign Nationals\\) ',\n",
    "                                                      'Total Confirmed cases',x))\n",
    "df_India = df_India.rename(columns={'Deaths ( more than 70% cases due to comorbidities )':'Deaths', \n",
    "                                      'Deaths**':'Deaths'})"
   ]
  },
  {
   "cell_type": "code",
   "execution_count": null,
   "metadata": {
    "id": "1jJMwxlu2wE5",
    "scrolled": false
   },
   "outputs": [],
   "source": [
    "# unique state names\n",
    "df_India['State/UnionTerritory'].unique()"
   ]
  },
  {
   "cell_type": "code",
   "execution_count": null,
   "metadata": {
    "id": "1YrneB7O2wFB"
   },
   "outputs": [],
   "source": [
    "# number of missing values \n",
    "df_India.isna().sum()"
   ]
  },
  {
   "cell_type": "code",
   "execution_count": null,
   "metadata": {
    "id": "cfN0cpaE2wFK",
    "scrolled": true
   },
   "outputs": [],
   "source": [
    "# number of unique values \n",
    "df_India.nunique()"
   ]
  },
  {
   "cell_type": "markdown",
   "metadata": {
    "id": "ntYd3Pqn2wFd"
   },
   "source": [
    "# Saving data"
   ]
  },
  {
   "cell_type": "code",
   "execution_count": null,
   "metadata": {
    "id": "zMqnBJnF2wFf"
   },
   "outputs": [],
   "source": [
    "# saving data\n",
    "# ===========\n",
    "\n",
    "# file names as year-month-day.csv format\n",
    "file_name = now.strftime(\"%Y_%m_%d\")+' - COVID-19_India.csv'\n",
    "\n",
    "# location for saving the file\n",
    "file_loc = '/content/'\n",
    "\n",
    "# save file as a scv file\n",
    "df_India.to_csv(file_loc + file_name, index=False)\n",
    "\n",
    "# df_India.head(36)"
   ]
  },
  {
   "cell_type": "code",
   "execution_count": null,
   "metadata": {
    "id": "rW4GV7g6C4OI"
   },
   "outputs": [],
   "source": [
    "# fix datatype\n",
    "df_India['Date'] = pd.to_datetime(df_India['Date'])"
   ]
  },
  {
   "cell_type": "code",
   "execution_count": null,
   "metadata": {
    "id": "nbR3kil72wGX"
   },
   "outputs": [],
   "source": [
    "# rename state/UT names\n",
    "df_India['State/UnionTerritory'].replace('Chattisgarh', 'Chhattisgarh', inplace=True)\n",
    "df_India['State/UnionTerritory'].replace('Pondicherry', 'Puducherry', inplace=True) "
   ]
  },
  {
   "cell_type": "markdown",
   "metadata": {
    "id": "cf19Hgz-2wGm"
   },
   "source": [
    "## Final dataframe"
   ]
  },
  {
   "cell_type": "code",
   "execution_count": null,
   "metadata": {
    "id": "Ue3vzzSQ2wGn"
   },
   "outputs": [],
   "source": [
    "df_India.head(36)"
   ]
  },
  {
   "cell_type": "code",
   "execution_count": null,
   "metadata": {
    "id": "SoU-77kW2wGw"
   },
   "outputs": [],
   "source": [
    "# complete data info\n",
    "df_India.info()"
   ]
  },
  {
   "cell_type": "markdown",
   "metadata": {
    "id": "lNxBWFaJ2wG4"
   },
   "source": [
    "## Save as .csv file"
   ]
  },
  {
   "cell_type": "code",
   "execution_count": null,
   "metadata": {
    "id": "FnrzNc9f2wG6"
   },
   "outputs": [],
   "source": [
    "# saving data\n",
    "# ===========\n",
    "\n",
    "# file names as year-month-day.csv format\n",
    "file_name = now.strftime(\"%Y_%m_%d\")+' - COVID-19_India_preprocessed.csv'\n",
    "\n",
    "# location for saving the file\n",
    "file_loc = '/content/'\n",
    "\n",
    "# save file as a scv file\n",
    "df_India.to_csv(file_loc + file_name, index=False)"
   ]
  },
  {
   "cell_type": "code",
   "execution_count": null,
   "metadata": {
    "_kg_hide-input": true,
    "_kg_hide-output": true,
    "id": "GT-J_-YQdhCy"
   },
   "outputs": [],
   "source": [
    "#Learn how to read a .csv file by creating a dataframe using pandas\n",
    "# Reading the datasets\n",
    "df= pd.read_csv('/content/2020_05_24 - COVID-19_India_preprocessed.csv')\n",
    "df_india = df.copy()\n",
    "df"
   ]
  },
  {
   "cell_type": "markdown",
   "metadata": {
    "id": "2B1zwo4gdhDd"
   },
   "source": [
    "## 1.2 Analysing COVID19 Cases in India"
   ]
  },
  {
   "cell_type": "code",
   "execution_count": null,
   "metadata": {
    "_kg_hide-input": true,
    "id": "5x5FEOVEdhDF"
   },
   "outputs": [],
   "source": [
    "total_cases = df['Confirmed'].sum()\n",
    "print('Total number of confirmed COVID 2019 cases across India till date (23rd May, 2020):', total_cases)"
   ]
  },
  {
   "cell_type": "code",
   "execution_count": null,
   "metadata": {
    "_kg_hide-input": true,
    "_kg_hide-output": false,
    "id": "jIQzgI5YdhDh"
   },
   "outputs": [],
   "source": [
    "#Learn how to highlight your dataframe\n",
    "df_temp = df.drop(['Latitude', 'Longitude', 'Date', 'index', 'level_0'], axis = 1) #Removing Date, Latitude and Longitude and other extra columns\n",
    "df_temp.style.background_gradient(cmap='Reds')"
   ]
  },
  {
   "cell_type": "code",
   "execution_count": null,
   "metadata": {
    "id": "yNAR2ENutEMd"
   },
   "outputs": [],
   "source": [
    "today = now.strftime(\"%Y_%m_%d\")\n",
    "total_cured = df['Cured'].sum()\n",
    "print(\"Total people who were cured as of \"+today+\" are: \", total_cured)\n",
    "total_cases = df['Confirmed'].sum()\n",
    "print(\"Total people who were detected COVID+ve as of \"+today+\" are: \", total_cases)\n",
    "total_death = df['Deaths'].sum()\n",
    "print(\"Total people who died due to COVID19 as of \"+today+\" are: \",total_death)\n",
    "total_active = total_cases-total_cured-total_death\n",
    "print(\"Total active COVID19 cases as of \"+today+\" are: \",total_active)"
   ]
  },
  {
   "cell_type": "code",
   "execution_count": null,
   "metadata": {
    "id": "o1mEEV3h_lEe"
   },
   "outputs": [],
   "source": [
    "#Total Active  is the Total cases - (Number of death + Cured)\n",
    "df['Total Active'] = df['Confirmed'] - (df['Deaths'] + df1['Cured'])\n",
    "total_active = df['Total Active'].sum()\n",
    "print('Total number of active COVID 2019 cases across India:', total_active)\n",
    "Tot_Cases = df.groupby('State/UnionTerritory')['Total Active'].sum().sort_values(ascending=False).to_frame()\n",
    "Tot_Cases.style.background_gradient(cmap='Reds')"
   ]
  },
  {
   "cell_type": "code",
   "execution_count": null,
   "metadata": {
    "id": "VsyhpF5_HAb0"
   },
   "outputs": [],
   "source": [
    "import numpy as np\n",
    "state_cases = df_india.groupby('State/UnionTerritory')['Confirmed','Deaths','Cured'].max().reset_index()\n",
    "\n",
    "#state_cases = state_cases.astype({'Deaths': 'int'})\n",
    "state_cases['Active'] = state_cases['Confirmed'] - (state_cases['Deaths']+state_cases['Cured'])\n",
    "state_cases[\"Death Rate (per 100)\"] = np.round(100*state_cases[\"Deaths\"]/state_cases[\"Confirmed\"],2)\n",
    "state_cases[\"Cure Rate (per 100)\"] = np.round(100*state_cases[\"Cured\"]/state_cases[\"Confirmed\"],2)\n",
    "state_cases.sort_values('Confirmed', ascending= False).fillna(0).style.background_gradient(cmap='Blues',subset=[\"Confirmed\"])\\\n",
    "                        .background_gradient(cmap='Blues',subset=[\"Deaths\"])\\\n",
    "                        .background_gradient(cmap='Blues',subset=[\"Cured\"])\\\n",
    "                        .background_gradient(cmap='Blues',subset=[\"Active\"])\\\n",
    "                        .background_gradient(cmap='Blues',subset=[\"Death Rate (per 100)\"])\\\n",
    "                        .background_gradient(cmap='Blues',subset=[\"Cure Rate (per 100)\"])"
   ]
  },
  {
   "cell_type": "markdown",
   "metadata": {
    "id": "XAYwGG6ljgcN"
   },
   "source": [
    "**Visualization Inference:** \n",
    "\n",
    "* Almost +1,611 cases of COVID-19 has been reported today (23rd May) taking total cases to 123202. \n",
    "* The cases have been confirmed across 32 states and union territories. \n",
    "* Out of 123202 cases, 51784 people have been cured, discharged or migrated.\n",
    "* Maharashtra, Tamilnaidu, Gujrat and Delhi are worsely affected states with maximum number of confirmed cases\n",
    "* Till 23rd of May 3720 people have died in India\n"
   ]
  },
  {
   "cell_type": "markdown",
   "metadata": {
    "id": "2-LoBF2Mwgs2"
   },
   "source": [
    "##Finding more detail COVID Insights in India"
   ]
  },
  {
   "cell_type": "code",
   "execution_count": null,
   "metadata": {
    "id": "kY6BCztbRecP"
   },
   "outputs": [],
   "source": [
    "age_details = pd.read_csv('/content/AgeGroupDetails.csv')\n",
    "india_covid_19 = pd.read_csv('/content/covid_19_india.csv')\n",
    "hospital_beds = pd.read_csv('/content/HospitalBedsIndia.csv')\n",
    "individual_details = pd.read_csv('/content/IndividualDetails.csv')\n",
    "ICMR_details = pd.read_csv('/content/ICMRTestingDetails.csv')\n",
    "ICMR_labs = pd.read_csv('/content/ICMRTestingLabs.csv')\n",
    "state_testing = pd.read_csv('/content/StatewiseTestingDetails.csv')\n",
    "population = pd.read_csv('/content/population_india_census2011.csv')"
   ]
  },
  {
   "cell_type": "code",
   "execution_count": null,
   "metadata": {
    "id": "m2GVTjEiTnLc"
   },
   "outputs": [],
   "source": [
    "india_covid_19['Date'] = pd.to_datetime(india_covid_19['Date'],dayfirst = True)\n",
    "state_testing['Date'] = pd.to_datetime(state_testing['Date'])\n",
    "ICMR_details['DateTime'] = pd.to_datetime(ICMR_details['DateTime'],dayfirst = True)\n",
    "ICMR_details = ICMR_details.dropna(subset=['TotalSamplesTested', 'TotalPositiveCases'])"
   ]
  },
  {
   "cell_type": "code",
   "execution_count": null,
   "metadata": {
    "id": "CriLxS7bULtf"
   },
   "outputs": [],
   "source": [
    "confirmed_df = pd.read_csv('https://raw.githubusercontent.com/CSSEGISandData/COVID-19/master/csse_covid_19_data/csse_covid_19_time_series/time_series_covid19_confirmed_global.csv')\n",
    "deaths_df = pd.read_csv('https://raw.githubusercontent.com/CSSEGISandData/COVID-19/master/csse_covid_19_data/csse_covid_19_time_series/time_series_covid19_deaths_global.csv')\n",
    "recovered_df = pd.read_csv('https://raw.githubusercontent.com/CSSEGISandData/COVID-19/master/csse_covid_19_data/csse_covid_19_time_series/time_series_covid19_recovered_global.csv')\n",
    "latest_data = pd.read_csv('https://raw.githubusercontent.com/CSSEGISandData/COVID-19/master/csse_covid_19_data/csse_covid_19_daily_reports/04-04-2020.csv')\n"
   ]
  },
  {
   "cell_type": "code",
   "execution_count": null,
   "metadata": {
    "id": "weI9oKK8S_rY"
   },
   "outputs": [],
   "source": [
    "labels = list(age_details['AgeGroup'])\n",
    "sizes = list(age_details['TotalCases'])\n",
    "\n",
    "explode = []\n",
    "\n",
    "for i in labels:\n",
    "    explode.append(0.05)\n",
    "    \n",
    "plt.figure(figsize= (15,10))\n",
    "plt.pie(sizes, labels=labels, autopct='%1.1f%%', startangle=9, explode =explode)\n",
    "centre_circle = plt.Circle((0,0),0.70,fc='white')\n",
    "\n",
    "fig = plt.gcf()\n",
    "fig.gca().add_artist(centre_circle)\n",
    "plt.title('India - Age Group wise Distribution',fontsize = 20)\n",
    "plt.axis('equal')  \n",
    "plt.tight_layout()"
   ]
  },
  {
   "cell_type": "markdown",
   "metadata": {
    "id": "RUOUsithTJBB"
   },
   "source": [
    "We could see that the age group <40 is the most affected which is against the trend which says elderly people are more at risk of being affected. Only 17% of people >60 are affected."
   ]
  },
  {
   "cell_type": "code",
   "execution_count": null,
   "metadata": {
    "id": "M-wmJf7QTEQm"
   },
   "outputs": [],
   "source": [
    "dates = list(confirmed_df.columns[4:])\n",
    "dates = list(pd.to_datetime(dates))\n",
    "dates_india = dates[8:]"
   ]
  },
  {
   "cell_type": "code",
   "execution_count": null,
   "metadata": {
    "id": "yLoWofN5Udej"
   },
   "outputs": [],
   "source": [
    "tes = list(pd.to_datetime(dates))\n",
    "dates_india = dates[8:]\n",
    "df1 = confirmed_df.groupby('Country/Region').sum().reset_index()\n",
    "df2 = deaths_df.groupby('Country/Region').sum().reset_index()\n",
    "df3 = recovered_df.groupby('Country/Region').sum().reset_index()\n",
    "\n",
    "k = df1[df1['Country/Region']=='India'].loc[:,'1/30/20':]\n",
    "india_confirmed = k.values.tolist()[0] \n",
    "\n",
    "k = df2[df2['Country/Region']=='India'].loc[:,'1/30/20':]\n",
    "india_deaths = k.values.tolist()[0] \n",
    "\n",
    "k = df3[df3['Country/Region']=='India'].loc[:,'1/30/20':]\n",
    "india_recovered = k.values.tolist()[0] \n",
    "\n",
    "plt.figure(figsize= (15,10))\n",
    "plt.xticks(rotation = 90 ,fontsize = 11)\n",
    "plt.yticks(fontsize = 10)\n",
    "plt.xlabel(\"Dates\",fontsize = 20)\n",
    "plt.ylabel('Total cases',fontsize = 20)\n",
    "plt.title(\"Total Confirmed, Active, Death in India\" , fontsize = 20)\n",
    "\n",
    "ax1 = plt.plot_date(y= india_confirmed,x= dates_india,label = 'Confirmed',linestyle ='-',color = 'b')\n",
    "ax2 = plt.plot_date(y= india_recovered,x= dates_india,label = 'Recovered',linestyle ='-',color = 'g')\n",
    "ax3 = plt.plot_date(y= india_deaths,x= dates_india,label = 'Death',linestyle ='-',color = 'r')\n",
    "plt.legend()"
   ]
  },
  {
   "cell_type": "markdown",
   "metadata": {
    "id": "Ff1hYWrAK92X"
   },
   "source": [
    "###Total Samples Tested"
   ]
  },
  {
   "cell_type": "code",
   "execution_count": null,
   "metadata": {
    "id": "BaF0Gd1VbUjp"
   },
   "outputs": [],
   "source": [
    "import matplotlib.dates as mdates\n",
    "ICMR_details['Percent_positive'] = round((ICMR_details['TotalPositiveCases']/ICMR_details['TotalSamplesTested'])*100,1)\n",
    "\n",
    "fig, ax1 = plt.subplots(figsize= (15,5))\n",
    "ax1.xaxis.set_major_formatter(mdates.DateFormatter('%d-%b'))\n",
    "ax1.set_ylabel('Positive Cases (% of Total Samples Tested)')\n",
    "ax1.bar(ICMR_details['DateTime'] , ICMR_details['Percent_positive'], color=\"red\",label = 'Percentage of Positive Cases')\n",
    "ax1.text(ICMR_details['DateTime'][0],4, 'Total Samples Tested as of Apr 23rd = 541789', style='italic',fontsize= 10,\n",
    "        bbox={'facecolor': 'white' ,'alpha': 0.5, 'pad': 5})\n",
    "\n",
    "ax2 = ax1.twinx()  \n",
    "ax2.xaxis.set_major_formatter(mdates.DateFormatter('%d-%b'))\n",
    "ax2.set_ylabel('Num Samples Tested')\n",
    "ax2.fill_between(ICMR_details['DateTime'],ICMR_details['TotalSamplesTested'],color = 'black',alpha = 0.5,label = 'Samples Tested');\n",
    "\n",
    "plt.legend(loc=\"upper left\")\n",
    "plt.title('Total Samples Tested')\n",
    "plt.show()\n"
   ]
  },
  {
   "cell_type": "markdown",
   "metadata": {
    "id": "HUPsnS3Eg7Nl"
   },
   "source": [
    "##Testing LIVE Status"
   ]
  },
  {
   "cell_type": "code",
   "execution_count": null,
   "metadata": {
    "id": "KB63tn4FVYc3"
   },
   "outputs": [],
   "source": [
    "import json\n",
    "# get response from the web page\n",
    "response = requests.get('https://api.covid19india.org/state_test_data.json')\n",
    "\n",
    "# get contents from the response\n",
    "content = response.content\n",
    "\n",
    "# parse the json file\n",
    "parsed = json.loads(content)\n",
    "\n",
    "# keys\n",
    "parsed.keys()"
   ]
  },
  {
   "cell_type": "code",
   "execution_count": null,
   "metadata": {
    "id": "8Mv9pbSoM1j0"
   },
   "outputs": [],
   "source": [
    "# save data in a dataframe\n",
    "tested = pd.DataFrame(parsed['states_tested_data'])\n",
    "\n",
    "# first few rows\n",
    "tested.tail()"
   ]
  },
  {
   "cell_type": "code",
   "execution_count": null,
   "metadata": {
    "id": "QWJ9lVTsXeb_"
   },
   "outputs": [],
   "source": [
    "# fix datatype\n",
    "tested['updatedon'] = pd.to_datetime(tested['updatedon'])"
   ]
  },
  {
   "cell_type": "code",
   "execution_count": null,
   "metadata": {
    "id": "Z42Q39lMNInD"
   },
   "outputs": [],
   "source": [
    "# save file as a scv file\n",
    "tested.to_csv('updated_tests_latest_state_level.csv', index=False)\n"
   ]
  },
  {
   "cell_type": "code",
   "execution_count": null,
   "metadata": {
    "id": "INr46s6yhue3"
   },
   "outputs": [],
   "source": [
    "state_test_cases = tested.groupby(['updatedon','state'])['totaltested','populationncp2019projection','testpositivityrate',\t'testsperpositivecase',\t'testsperthousand','totalpeoplecurrentlyinquarantine'].max().reset_index()"
   ]
  },
  {
   "cell_type": "code",
   "execution_count": null,
   "metadata": {
    "id": "6L9pADIYf0Kd"
   },
   "outputs": [],
   "source": [
    "state_test_cases.head(36)"
   ]
  },
  {
   "cell_type": "code",
   "execution_count": null,
   "metadata": {
    "id": "XlE9YdCZc6YA"
   },
   "outputs": [],
   "source": [
    "state_test_cases = tested.groupby('state')['totaltested','populationncp2019projection','testpositivityrate',\t'testsperpositivecase',\t'testsperthousand','totalpeoplecurrentlyinquarantine'].max()\n",
    "state_test_cases['testpositivityrate'] = state_test_cases['testpositivityrate'].str.replace('%', '')"
   ]
  },
  {
   "cell_type": "code",
   "execution_count": null,
   "metadata": {
    "id": "esdDHBDFj-_C"
   },
   "outputs": [],
   "source": [
    "state_test_cases = state_test_cases.apply(pd.to_numeric)"
   ]
  },
  {
   "cell_type": "code",
   "execution_count": null,
   "metadata": {
    "id": "t1Ob_4rLkz1F"
   },
   "outputs": [],
   "source": [
    "state_test_cases.nunique()"
   ]
  },
  {
   "cell_type": "code",
   "execution_count": null,
   "metadata": {
    "id": "prIIgi2yXvCR"
   },
   "outputs": [],
   "source": [
    "state_test_cases.sort_values('totaltested', ascending= False).style.background_gradient(cmap='Blues',subset=[\"totaltested\"])\\\n",
    "                        .background_gradient(cmap='Blues',subset=[\"populationncp2019projection\"])\\\n",
    "                        .background_gradient(cmap='Blues',subset=[\"testpositivityrate\"])\\\n",
    "                        .background_gradient(cmap='Blues',subset=[\"testsperpositivecase\"])\\\n",
    "                        .background_gradient(cmap='Blues',subset=[\"testsperthousand\"])\\\n",
    "                        .background_gradient(cmap='Blues',subset=[\"totalpeoplecurrentlyinquarantine\"])\n",
    "                       "
   ]
  },
  {
   "cell_type": "markdown",
   "metadata": {
    "id": "0WbxWEEEK5fN"
   },
   "source": [
    "###Day-by-Day Confirmed Cases in Top 15 States in India"
   ]
  },
  {
   "cell_type": "code",
   "execution_count": null,
   "metadata": {
    "id": "ykP1GRZXG7aX"
   },
   "outputs": [],
   "source": [
    "all_state = list(df_India['State/UnionTerritory'].unique())\n",
    "\n",
    "latest = india_covid_19[india_covid_19['Date'] > '24-03-20']\n",
    "state_cases = latest.groupby('State/UnionTerritory')['Confirmed','Deaths','Cured'].max().reset_index()\n",
    "latest['Active'] = latest['Confirmed'] - (latest['Deaths']- latest['Cured'])\n",
    "state_cases = state_cases.sort_values('Confirmed', ascending= False).fillna(0)\n",
    "states =list(state_cases['State/UnionTerritory'][0:15])\n",
    "\n",
    "states_confirmed = {}\n",
    "states_deaths = {}\n",
    "states_recovered = {}\n",
    "states_dates = {}\n",
    "\n",
    "for state in states:\n",
    "    df = latest[latest['State/UnionTerritory'] == state].reset_index()\n",
    "    k = []\n",
    "    l = []\n",
    "    m = []\n",
    "    n = []\n",
    "    for i in range(1,len(df)):\n",
    "        k.append(df['Confirmed'][i]-df['Confirmed'][i-1])\n",
    "        l.append(df['Deaths'][i]-df['Deaths'][i-1])\n",
    "        m.append(df['Cured'][i]-df['Cured'][i-1])\n",
    "        n.append(df['Active'][i]-df['Active'][i-1])\n",
    "    states_confirmed[state] = k\n",
    "    states_deaths[state] = l\n",
    "    states_recovered[state] = m\n",
    "    states_active[state] = n\n",
    "    date = list(df['Date'])\n",
    "    states_dates[state] = date[1:]\n",
    "    \n",
    "fig = plt.figure(figsize= (25,17))\n",
    "plt.suptitle('Day-by-Day Confirmed Cases in Top 15 States in India',fontsize = 20,y=1.0)\n",
    "k=0\n",
    "for i in range(1,15):\n",
    "    ax = fig.add_subplot(5,3,i)\n",
    "    ax.xaxis.set_major_formatter(mdates.DateFormatter('%d-%b'))\n",
    "    ax.bar(states_dates[states[k]],states_confirmed[states[k]],label = 'Day wise Confirmed Cases ') \n",
    "    plt.title(states[k],fontsize = 20)\n",
    "    handles, labels = ax.get_legend_handles_labels()\n",
    "    fig.legend(handles, labels, loc='upper left')\n",
    "    k=k+1\n",
    "plt.tight_layout(pad=5.0)"
   ]
  },
  {
   "cell_type": "markdown",
   "metadata": {
    "id": "hcNI6pePKwfQ"
   },
   "source": [
    "###Growth Rate in top 15 States in India"
   ]
  },
  {
   "cell_type": "code",
   "execution_count": null,
   "metadata": {
    "id": "fzLuFMXccoXQ"
   },
   "outputs": [],
   "source": [
    "def calc_growthRate(values):\n",
    "    k = []\n",
    "    for i in range(1,len(values)):\n",
    "        summ = 0\n",
    "        for j in range(i):\n",
    "            summ = summ + values[j]\n",
    "        rate = (values[i]/summ)*100\n",
    "        k.append(int(rate))\n",
    "    return k\n",
    "\n",
    "fig = plt.figure(figsize= (25,17))\n",
    "plt.suptitle('Growth Rate in Top 15 States',fontsize = 20,y=1.0)\n",
    "k=0\n",
    "for i in range(1,15):\n",
    "    ax = fig.add_subplot(5,3,i)\n",
    "    ax.xaxis.set_major_formatter(mdates.DateFormatter('%d-%b'))\n",
    "    #ax.bar(states_dates[states[k]],states_confirmed[states[k]],label = 'Day wise Confirmed Cases ') \n",
    "    growth_rate = calc_growthRate(states_confirmed[states[k]])\n",
    "    ax.plot_date(states_dates[states[k]][21:],growth_rate[20:],color = '#9370db',label = 'Growth Rate',linewidth =3,linestyle='-')  \n",
    "    plt.title(states[k],fontsize = 20)\n",
    "    handles, labels = ax.get_legend_handles_labels()\n",
    "    fig.legend(handles, labels, loc='upper left')\n",
    "    k=k+1\n",
    "plt.tight_layout(pad=3.0)"
   ]
  },
  {
   "cell_type": "markdown",
   "metadata": {
    "id": "AMm-CFdm4MEV"
   },
   "source": [
    "Though being highly populated the relative confimred cases of India is low compared to other countries. This could be because of two reasons:\n",
    "- 67 days lockdown imposed by prime minister Narendra Modi in several stages (Source : [Health Ministry](http://www.indiatoday.in/india/story/without-lockdown-india-would-have-2-lakh-covid-19-cases-by-now-health-ministry-1665903-2020-04-11))\n",
    "- Low testing rate (Source: [news18](https://www.news18.com/news/india/with-just-18-tests-per-million-of-population-why-indias-low-testing-rate-for-coronavirus-is-worrying-2552845.html))"
   ]
  },
  {
   "cell_type": "markdown",
   "metadata": {
    "id": "IDONbvBOzlMh"
   },
   "source": [
    "###Exploring different types of hospital beds available in India during lockdown"
   ]
  },
  {
   "cell_type": "code",
   "execution_count": null,
   "metadata": {
    "id": "hgzZxO2-c9BG"
   },
   "outputs": [],
   "source": [
    "cols_object = list(hospital_beds.columns[2:8])\n",
    "\n",
    "for cols in cols_object:\n",
    "    hospital_beds[cols] = hospital_beds[cols].astype(int,errors = 'ignore')\n",
    "\n",
    "hospital_beds = hospital_beds.drop('Sno',axis=1)"
   ]
  },
  {
   "cell_type": "code",
   "execution_count": null,
   "metadata": {
    "id": "cpQdBtdXzbPr"
   },
   "outputs": [],
   "source": [
    "hospital_beds.head(36)"
   ]
  },
  {
   "cell_type": "markdown",
   "metadata": {
    "id": "ViVzzfuX0ZTF"
   },
   "source": [
    "###Exploring top 10 States in each health facilities"
   ]
  },
  {
   "cell_type": "code",
   "execution_count": null,
   "metadata": {
    "id": "KH8DoiqgdEfY"
   },
   "outputs": [],
   "source": [
    "top_10_primary = hospital_beds.nlargest(10,'NumPrimaryHealthCenters_HMIS')\n",
    "top_10_community = hospital_beds.nlargest(10,'NumCommunityHealthCenters_HMIS')\n",
    "top_10_district_hospitals = hospital_beds.nlargest(10,'NumDistrictHospitals_HMIS')\n",
    "top_10_public_facility = hospital_beds.nlargest(10,'TotalPublicHealthFacilities_HMIS')\n",
    "top_10_public_beds = hospital_beds.nlargest(10,'NumPublicBeds_HMIS')\n",
    "\n",
    "plt.figure(figsize=(15,10))\n",
    "plt.suptitle('Top 10 States in each Health Facility',fontsize=20)\n",
    "plt.subplot(221)\n",
    "plt.title('Primary Health Centers')\n",
    "plt.barh(top_10_primary['State/UT'],top_10_primary['NumPrimaryHealthCenters_HMIS'],color ='#87479d');\n",
    "\n",
    "plt.subplot(222)\n",
    "plt.title('Community Health Centers')\n",
    "plt.barh(top_10_community['State/UT'],top_10_community['NumCommunityHealthCenters_HMIS'],color = '#9370db');\n",
    "\n",
    "plt.subplot(224)\n",
    "plt.title('Total Public Health Facilities')\n",
    "plt.barh(top_10_community['State/UT'],top_10_public_facility['TotalPublicHealthFacilities_HMIS'],color='#9370db');\n",
    "\n",
    "plt.subplot(223)\n",
    "plt.title('District Hospitals')\n",
    "plt.barh(top_10_community['State/UT'],top_10_district_hospitals['NumDistrictHospitals_HMIS'],color = '#87479d');"
   ]
  },
  {
   "cell_type": "markdown",
   "metadata": {
    "id": "_9FROa2Q0s4y"
   },
   "source": [
    "###Exploring Urban and Rural Healthcare Facility"
   ]
  },
  {
   "cell_type": "code",
   "execution_count": null,
   "metadata": {
    "id": "KqH42w8idmOL"
   },
   "outputs": [],
   "source": [
    "top_rural_hos = hospital_beds.nlargest(10,'NumRuralHospitals_NHP18')\n",
    "top_rural_beds = hospital_beds.nlargest(10,'NumRuralBeds_NHP18')\n",
    "top_urban_hos = hospital_beds.nlargest(10,'NumUrbanHospitals_NHP18')\n",
    "top_urban_beds = hospital_beds.nlargest(10,'NumUrbanBeds_NHP18')\n",
    "\n",
    "plt.figure(figsize=(15,10))\n",
    "plt.suptitle('Urban and Rural Health Facility',fontsize=20)\n",
    "plt.subplot(221)\n",
    "plt.title('Rural Hospitals')\n",
    "plt.barh(top_rural_hos['State/UT'],top_rural_hos['NumRuralHospitals_NHP18'],color = '#87479d');\n",
    "\n",
    "plt.subplot(222)\n",
    "plt.title('Urban Hospitals')\n",
    "plt.barh(top_urban_hos['State/UT'],top_urban_hos['NumUrbanHospitals_NHP18'],color = '#9370db');\n",
    "\n",
    "plt.subplot(223)\n",
    "plt.title('Rural Beds')\n",
    "plt.barh(top_rural_beds['State/UT'],top_rural_beds['NumRuralBeds_NHP18'],color = '#87479d');\n",
    "\n",
    "plt.subplot(224)\n",
    "plt.title('Urban Beds')\n",
    "plt.barh(top_urban_beds['State/UT'],top_urban_beds['NumUrbanBeds_NHP18'],color = '#9370db');"
   ]
  },
  {
   "cell_type": "markdown",
   "metadata": {
    "id": "wwva8YCR04RQ"
   },
   "source": [
    "###Exploring Statewise Testing Insights"
   ]
  },
  {
   "cell_type": "code",
   "execution_count": null,
   "metadata": {
    "id": "qg6fpi1_dpFC"
   },
   "outputs": [],
   "source": [
    "state_test = pd.pivot_table(state_testing, values=['TotalSamples','Negative','Positive'], index='State', aggfunc='max')\n",
    "state_names = list(state_test.index)\n",
    "state_test['State'] = state_names\n",
    "\n",
    "plt.figure(figsize=(25,20))\n",
    "sns.set_color_codes(\"pastel\")\n",
    "sns.barplot(x=\"TotalSamples\", y= state_names, data=state_test,label=\"Total Samples\", color = '#7370db')\n",
    "sns.barplot(x='Negative', y=state_names, data=state_test,label='Negative', color= '#af8887')\n",
    "sns.barplot(x='Positive', y=state_names, data=state_test,label='Positive', color='#6ff79d')\n",
    "plt.title('Testing statewise insight',fontsize = 20)\n",
    "plt.legend(ncol=2, loc=\"lower right\", frameon=True);"
   ]
  },
  {
   "cell_type": "markdown",
   "metadata": {
    "id": "vR0KA9WQ2P0G"
   },
   "source": [
    "###Number of ICMR Testing Centres in each state"
   ]
  },
  {
   "cell_type": "code",
   "execution_count": null,
   "metadata": {
    "id": "wxgJ2Okndyyb"
   },
   "outputs": [],
   "source": [
    "values = list(ICMR_labs['state'].value_counts())\n",
    "names = list(ICMR_labs['state'].value_counts().index)\n",
    "\n",
    "plt.figure(figsize=(15,10))\n",
    "sns.set_color_codes(\"pastel\")\n",
    "plt.title('ICMR Testing Centers in each State', fontsize = 20)\n",
    "sns.barplot(x= values, y= names,color = '#ff2345');"
   ]
  },
  {
   "cell_type": "markdown",
   "metadata": {
    "id": "DSv7uqdz3Qhv"
   },
   "source": [
    "##Let's Start with the predictions"
   ]
  },
  {
   "cell_type": "code",
   "execution_count": null,
   "metadata": {
    "id": "3ikud0n8eV-U"
   },
   "outputs": [],
   "source": [
    "train = pd.read_csv('/content/train.csv')\n",
    "test = pd.read_csv('/content/test.csv')\n",
    "train['Date'] = pd.to_datetime(train['Date'])\n",
    "test['Date'] = pd.to_datetime(test['Date'])"
   ]
  },
  {
   "cell_type": "markdown",
   "metadata": {
    "id": "FzWVKIG98Gjn"
   },
   "source": [
    "\n",
    "## Prophet\n",
    "Prophet is open source software released by Facebook’s Core Data Science team. It is available for download on CRAN and PyPI.\n",
    "\n",
    "We use Prophet, a procedure for forecasting time series data based on an additive model where non-linear trends are fit with yearly, weekly, and daily seasonality, plus holiday effects. It works best with time series that have strong seasonal effects and several seasons of historical data. Prophet is robust to missing data and shifts in the trend, and typically handles outliers well. \n",
    "\n",
    "## Why Prophet?\n",
    "\n",
    "* **Accurate and fast:**  Prophet is used in many applications across Facebook for producing reliable forecasts for planning and goal setting. Facebook finds it to perform better than any other approach in the majority of cases. It fit models in [Stan](https://mc-stan.org/) so that you get forecasts in just a few seconds.\n",
    "\n",
    "* **Fully automatic:** Get a reasonable forecast on messy data with no manual effort. Prophet is robust to outliers, missing data, and dramatic changes in your time series.\n",
    "\n",
    "* **Tunable forecasts:** The Prophet procedure includes many possibilities for users to tweak and adjust forecasts. You can use human-interpretable parameters to improve your forecast by adding your domain knowledge\n",
    "\n",
    "* **Available in R or Python:** Facebook has implemented the Prophet procedure in R and Python. Both of them share the same underlying Stan code for fitting. You can use whatever language you’re comfortable with to get forecasts. \n",
    "\n",
    "\n",
    "## References \n",
    "- https://facebook.github.io/prophet/\n",
    "- https://facebook.github.io/prophet/docs/\n",
    "- https://github.com/facebook/prophet\n",
    "- https://facebook.github.io/prophet/docs/quick_start.html"
   ]
  },
  {
   "cell_type": "code",
   "execution_count": null,
   "metadata": {
    "id": "VdK6PQfxfloi"
   },
   "outputs": [],
   "source": [
    "!pip install Prophet"
   ]
  },
  {
   "cell_type": "code",
   "execution_count": null,
   "metadata": {
    "id": "TS0yf_Vf9I_P"
   },
   "outputs": [],
   "source": [
    "from fbprophet import Prophet\n",
    "from fbprophet.plot import plot_plotly, add_changepoints_to_plot\n",
    "\n",
    "k = df1[df1['Country/Region']=='India'].loc[:,'1/22/20':]\n",
    "india_confirmed = k.values.tolist()[0] \n",
    "data = pd.DataFrame(columns = ['ds','y'])\n",
    "data['ds'] = dates\n",
    "data['y'] = india_confirmed"
   ]
  },
  {
   "cell_type": "markdown",
   "metadata": {
    "id": "fYfv8M_t9KAw"
   },
   "source": [
    "The input to Prophet is always a dataframe with two columns: **ds** and **y**. The **ds (datestamp)** column should be of a format expected by Pandas, ideally YYYY-MM-DD for a date or YYYY-MM-DD HH:MM:SS for a timestamp. The y column must be numeric, and represents the measurement we wish to forecast."
   ]
  },
  {
   "cell_type": "code",
   "execution_count": null,
   "metadata": {
    "id": "Y8lkvzK89KAx"
   },
   "outputs": [],
   "source": [
    "confirmed.columns = ['ds','y']\n",
    "#confirmed['ds'] = confirmed['ds'].dt.date\n",
    "confirmed['ds'] = pd.to_datetime(confirmed['ds'])"
   ]
  },
  {
   "cell_type": "markdown",
   "metadata": {
    "id": "DLxYbOyT8sho"
   },
   "source": [
    "\n",
    "##4.1 Forecasting Confirmed NCOVID-19 Cases Worldwide with Prophet (Base model)\n",
    "\n",
    "Generating a week ahead forecast of confirmed cases of NCOVID-19 using Prophet, with 95% prediction interval by creating a base model with no tweaking of seasonality-related parameters and additional regressors."
   ]
  },
  {
   "cell_type": "code",
   "execution_count": null,
   "metadata": {
    "id": "jpeRYylm8shs"
   },
   "outputs": [],
   "source": [
    "prop = Prophet(interval_width=0.95)\n",
    "prop.fit(data)\n",
    "future = prop.make_future_dataframe(periods=15)\n",
    "future.tail(15)"
   ]
  },
  {
   "cell_type": "markdown",
   "metadata": {
    "id": "F8u7fQDd8shx"
   },
   "source": [
    "The **predict** method will assign each row in future a predicted value which it names **yhat**. If you pass in historical dates, it will provide an in-sample fit. The **forecast object** here is a new dataframe that includes a column yhat with the forecast, as well as columns for components and uncertainty intervals."
   ]
  },
  {
   "cell_type": "code",
   "execution_count": null,
   "metadata": {
    "id": "CB9UJYtN8shx"
   },
   "outputs": [],
   "source": [
    "#predicting the future with date, and upper and lower limit of y value\n",
    "forecast = prop.predict(future)\n",
    "forecast[['ds', 'yhat', 'yhat_lower', 'yhat_upper']].tail()"
   ]
  },
  {
   "cell_type": "markdown",
   "metadata": {
    "id": "-SqLcBye8sh0"
   },
   "source": [
    "You can plot the forecast by calling the Prophet.plot method and passing in your forecast dataframe."
   ]
  },
  {
   "cell_type": "code",
   "execution_count": null,
   "metadata": {
    "id": "oUYGT3YY8sh0"
   },
   "outputs": [],
   "source": [
    "confirmed_forecast_plot = prop.plot(forecast)"
   ]
  },
  {
   "cell_type": "code",
   "execution_count": null,
   "metadata": {
    "id": "roCGb9FU_R95"
   },
   "outputs": [],
   "source": [
    "confirmed_forecast_plot =prop.plot_components(forecast)"
   ]
  },
  {
   "cell_type": "markdown",
   "metadata": {
    "id": "OrXjW5ya3yH1"
   },
   "source": [
    "##ARIMA Model"
   ]
  },
  {
   "cell_type": "code",
   "execution_count": null,
   "metadata": {
    "id": "1Ud9KPwjlccF"
   },
   "outputs": [],
   "source": [
    "from statsmodels.tsa.arima_model import ARIMA\n",
    "\n",
    "from datetime import timedelta \n",
    "\n",
    "arima = ARIMA(data['y'], order=(5, 1, 0))\n",
    "arima = arima.fit(trend='c', full_output=True, disp=True)\n",
    "forecast = arima.forecast(steps= 30)\n",
    "pred = list(forecast[0])\n",
    "\n",
    "start_date = data['ds'].max()\n",
    "prediction_dates = []\n",
    "for i in range(30):\n",
    "    date = start_date + timedelta(days=1)\n",
    "    prediction_dates.append(date)\n",
    "    start_date = date\n",
    "plt.figure(figsize= (15,10))\n",
    "plt.xlabel(\"Dates\",fontsize = 20)\n",
    "plt.ylabel('Total cases',fontsize = 20)\n",
    "plt.title(\"Predicted Values for the next 15 Days\" , fontsize = 20)\n",
    "\n",
    "plt.plot_date(y= pred,x= prediction_dates,linestyle ='dashed',color = '#ff9999',label = 'Predicted');\n",
    "plt.plot_date(y=data['y'],x=data['ds'],linestyle = '-',color = 'blue',label = 'Actual');\n",
    "plt.legend();"
   ]
  },
  {
   "cell_type": "markdown",
   "metadata": {
    "id": "0q44og8xdhE1"
   },
   "source": [
    "## 1.4 Visualising the spread geographically"
   ]
  },
  {
   "cell_type": "code",
   "execution_count": null,
   "metadata": {
    "_kg_hide-input": true,
    "_kg_hide-output": false,
    "id": "d6_6oRNadhE5"
   },
   "outputs": [],
   "source": [
    "# Learn how to use folium to create a zoomable map\n",
    "map = folium.Map(location=[20, 70], zoom_start=4,tiles='Stamenterrain')\n",
    "\n",
    "for lat, lon, value, name in zip(df_india['Latitude'], df_india['Longitude'], df_india['Confirmed'], df_india['State/UnionTerritory']):\n",
    "    folium.CircleMarker([lat, lon], radius=value*0.002, popup = ('<strong>State</strong>: ' + str(name).capitalize() + '<br>''<strong>Total Cases</strong>: ' + str(value) + '<br>'),color='red',fill_color='red',fill_opacity=0.3 ).add_to(map)\n",
    "map"
   ]
  },
  {
   "cell_type": "markdown",
   "metadata": {
    "id": "PNpM1HZdGHfE"
   },
   "source": [
    "#Part 3:  Exploring World wide data\n"
   ]
  },
  {
   "cell_type": "markdown",
   "metadata": {
    "id": "nZxXuyvkNnMm"
   },
   "source": [
    "## 3.1 Visualizing: Worldwide NCOVID-19 cases  "
   ]
  },
  {
   "cell_type": "code",
   "execution_count": null,
   "metadata": {
    "id": "oMzpDv5uAoJX"
   },
   "outputs": [],
   "source": [
    "world_confirmed = confirmed_df[confirmed_df.columns[-1:]].sum()\n",
    "world_recovered = recovered_df[recovered_df.columns[-1:]].sum()\n",
    "world_deaths = deaths_df[deaths_df.columns[-1:]].sum()\n",
    "world_active = world_confirmed - (world_recovered - world_deaths)\n",
    "\n",
    "labels = ['Active','Recovered','Deceased']\n",
    "sizes = [world_active,world_recovered,world_deaths]\n",
    "color= ['blue','green','red']\n",
    "explode = []\n",
    "\n",
    "for i in labels:\n",
    "    explode.append(0.05)\n",
    "    \n",
    "plt.figure(figsize= (15,10))\n",
    "plt.pie(sizes, labels=labels, autopct='%1.1f%%', startangle=9, explode = explode,colors = color)\n",
    "centre_circle = plt.Circle((0,0),0.70,fc='white')\n",
    "\n",
    "fig = plt.gcf()\n",
    "fig.gca().add_artist(centre_circle)\n",
    "plt.title('World COVID-19 Cases',fontsize = 20)\n",
    "plt.axis('equal')  \n",
    "plt.tight_layout()"
   ]
  },
  {
   "cell_type": "code",
   "execution_count": null,
   "metadata": {
    "id": "Ghogn3b6CJr-"
   },
   "outputs": [],
   "source": [
    "dates"
   ]
  },
  {
   "cell_type": "code",
   "execution_count": null,
   "metadata": {
    "id": "5KNbrkHuBPZv"
   },
   "outputs": [],
   "source": [
    "hotspots = ['China','Germany','Iran','Italy','Spain','US','Korea, South','France','Turkey','United Kingdom','India']\n",
    "dates = list(confirmed_df.columns[4:])\n",
    "dates = list(pd.to_datetime(dates))\n",
    "dates_india = dates[8:]\n",
    "\n",
    "df1 = confirmed_df.groupby('Country/Region').sum().reset_index()\n",
    "df2 = deaths_df.groupby('Country/Region').sum().reset_index()\n",
    "df3 = recovered_df.groupby('Country/Region').sum().reset_index()\n",
    "\n",
    "global_confirmed = {}\n",
    "global_deaths = {}\n",
    "global_recovered = {}\n",
    "global_active= {}\n",
    "\n",
    "for country in hotspots:\n",
    "    k =df1[df1['Country/Region'] == country].loc[:,'1/30/20':]\n",
    "    global_confirmed[country] = k.values.tolist()[0]\n",
    "\n",
    "    k =df2[df2['Country/Region'] == country].loc[:,'1/30/20':]\n",
    "    global_deaths[country] = k.values.tolist()[0]\n",
    "\n",
    "    k =df3[df3['Country/Region'] == country].loc[:,'1/30/20':]\n",
    "    global_recovered[country] = k.values.tolist()[0]\n",
    "    \n",
    "# for country in hotspots:\n",
    "#     k = list(map(int.__sub__, global_confirmed[country], global_deaths[country]))\n",
    "#     global_active[country] = list(map(int.__sub__, k, global_recovered[country]))\n",
    "    \n",
    "fig = plt.figure(figsize= (15,25))\n",
    "plt.suptitle('Active, Recovered, Deaths in Hotspot Countries and India as of '+ today,fontsize = 20,y=1.0)\n",
    "#plt.legend()\n",
    "k=0\n",
    "for i in range(1,12):\n",
    "    ax = fig.add_subplot(6,2,i)\n",
    "    ax.xaxis.set_major_formatter(mdates.DateFormatter('%d-%b'))\n",
    "    # ax.bar(dates_india,global_active[hotspots[k]],color = 'green',alpha = 0.6,label = 'Active');\n",
    "    ax.bar(dates_india,global_confirmed[hotspots[k]],color='blue',label = 'Confirmed');\n",
    "    ax.bar(dates_india,global_recovered[hotspots[k]],color='grey',label = 'Recovered');\n",
    "    ax.bar(dates_india,global_deaths[hotspots[k]],color='red',label = 'Death');   \n",
    "    plt.title(hotspots[k])\n",
    "    handles, labels = ax.get_legend_handles_labels()\n",
    "    fig.legend(handles, labels, loc='upper left')\n",
    "    k=k+1\n",
    "\n",
    "plt.tight_layout(pad=3.0)"
   ]
  },
  {
   "cell_type": "code",
   "execution_count": null,
   "metadata": {
    "id": "Q3iEWfZGE6f5"
   },
   "outputs": [],
   "source": []
  },
  {
   "cell_type": "code",
   "execution_count": null,
   "metadata": {
    "id": "2gAltUWZFAL5"
   },
   "outputs": [],
   "source": [
    "countries = ['China','Germany','Iran','Italy','Spain','US','Korea, South','France','United Kingdom','India']\n",
    "\n",
    "global_confirmed = []\n",
    "global_recovered = []\n",
    "global_deaths = []\n",
    "\n",
    "for country in countries:\n",
    "    k =df1[df1['Country/Region'] == country].loc[:,'1/30/20':]\n",
    "    global_confirmed.append(k.values.tolist()[0]) \n",
    "\n",
    "    k =df2[df2['Country/Region'] == country].loc[:,'1/30/20':]\n",
    "    global_deaths.append(k.values.tolist()[0]) \n",
    "\n",
    "    k =df3[df3['Country/Region'] == country].loc[:,'1/30/20':]\n",
    "    global_deaths.append(k.values.tolist()[0])  "
   ]
  },
  {
   "cell_type": "code",
   "execution_count": null,
   "metadata": {
    "id": "nqfBqsHRD62E"
   },
   "outputs": [],
   "source": [
    "plt.figure(figsize= (15,10))\n",
    "plt.xticks(rotation = 90 ,fontsize = 11)\n",
    "plt.yticks(fontsize = 10)\n",
    "plt.xlabel(\"Dates\",fontsize = 20)\n",
    "plt.ylabel('Total cases',fontsize = 20)\n",
    "plt.title(\"Comparison with other Countries\" , fontsize = 20)\n",
    "\n",
    "for i in range(len(countries)):\n",
    "    plt.plot_date(y= global_confirmed[i],x= dates_india,label = countries[i])\n",
    "plt.legend();"
   ]
  },
  {
   "cell_type": "markdown",
   "metadata": {
    "id": "tA2o-l9lGNR8"
   },
   "source": [
    "#COVID-19 Symptoms\n"
   ]
  },
  {
   "cell_type": "markdown",
   "metadata": {
    "id": "9wQkckrgoQAH"
   },
   "source": [
    "![alt text](https://i.imgur.com/POA1WGb.png)"
   ]
  },
  {
   "cell_type": "markdown",
   "metadata": {
    "id": "z2zVUbxbJq7d"
   },
   "source": [
    "#**Data Source:**\n",
    "- https://www.mohfw.gov.in/\n",
    "- https://www.kaggle.com/sudalairajkumar/novel-corona-virus-2019-dataset\n",
    "- https://www.worldometers.info/coronavirus/#countries\n",
    "- https://api.covid19india.org/"
   ]
  },
  {
   "cell_type": "markdown",
   "metadata": {
    "id": "dIT1SkkSg8Pc"
   },
   "source": [
    "#DIY: Assignment\n",
    "\n",
    "The latest data can also be extracted from the available APIs and reading the json. Below are the API list that have been provided by crowd sourced. Extract and use these data to find meaningful insights.\n",
    "\n",
    "- [National time series, statewise stats and test counts](https://api.covid19india.org/data.json)\n",
    "- [State-district-wise](https://api.covid19india.org/state_district_wise.json)\n",
    "[State-district-wise V2](https://api.covid19india.org/v2/state_district_wise.json)\n",
    "- [Travel history](https://api.covid19india.org/travel_history.json)\n",
    "- [Raw data](https://api.covid19india.org/raw_data.json)\n",
    "- [States Daily changes](https://api.covid19india.org/states_daily.json)\n",
    "- [Statewise Tested Numbers](https://api.covid19india.org/csv/latest/statewise_tested_numbers_data.csv)\n"
   ]
  },
  {
   "cell_type": "markdown",
   "metadata": {
    "id": "jMQ1YzExyPXs"
   },
   "source": [
    "##Extracting data from [Hirokuapp](https://www.worldometers.info/coronavirus/#countries)"
   ]
  },
  {
   "cell_type": "code",
   "execution_count": null,
   "metadata": {
    "id": "lw4NGg4_p4cn"
   },
   "outputs": [],
   "source": [
    "api = pd.read_json('https://corona-virus-stats.herokuapp.com/api/v1/cases/countries-search')"
   ]
  },
  {
   "cell_type": "code",
   "execution_count": null,
   "metadata": {
    "id": "8g8lsXUSqDy4"
   },
   "outputs": [],
   "source": [
    "json_data = api['data']['rows']"
   ]
  },
  {
   "cell_type": "code",
   "execution_count": null,
   "metadata": {
    "id": "RvllknW8oHeS"
   },
   "outputs": [],
   "source": [
    "data = json_normalize(json_data)\n",
    "data"
   ]
  },
  {
   "cell_type": "markdown",
   "metadata": {
    "id": "BIrfT70K5e5g"
   },
   "source": [
    "##Collecting Data for Statewise Insights"
   ]
  },
  {
   "cell_type": "code",
   "execution_count": null,
   "metadata": {
    "id": "A-Qg9KQR7-LZ"
   },
   "outputs": [],
   "source": [
    "# to parse json contents\n",
    "import json\n",
    "# to parse csv files\n",
    "import csv"
   ]
  },
  {
   "cell_type": "code",
   "execution_count": null,
   "metadata": {
    "id": "2Q1tbDnpzuM9"
   },
   "outputs": [],
   "source": [
    "# get response from the web page for LIVE data\n",
    "response = requests.get('https://api.covid19india.org/raw_data3.json')\n",
    "# get contents from the response\n",
    "content = response.content\n",
    "# parse the json file\n",
    "parsed = json.loads(content)\n",
    "# keys\n",
    "parsed.keys()"
   ]
  },
  {
   "cell_type": "code",
   "execution_count": null,
   "metadata": {
    "id": "R04KA43s0AX9"
   },
   "outputs": [],
   "source": [
    "# save to df\n",
    "df = pd.DataFrame(parsed['raw_data'])\n",
    "\n",
    "# shape of the dataframe\n",
    "print(df.shape)\n",
    "\n",
    "# # list of columns\n",
    "print(df.columns)\n",
    "\n",
    "# # first few rows\n",
    "df.head()"
   ]
  },
  {
   "cell_type": "code",
   "execution_count": null,
   "metadata": {
    "id": "iNpNp5b06uhO"
   },
   "outputs": [],
   "source": [
    "# creating patient id column from patient number\n",
    "# ===============================================\n",
    "\n",
    "df['p_id'] = df['patientnumber'].apply(lambda x : 'P'+str(x))\n",
    "df.columns"
   ]
  },
  {
   "cell_type": "markdown",
   "metadata": {
    "id": "qqRkGvh76uhU"
   },
   "source": [
    "### Rearrange and rename columns"
   ]
  },
  {
   "cell_type": "code",
   "execution_count": null,
   "metadata": {
    "id": "e8mGgJFU6uhV"
   },
   "outputs": [],
   "source": [
    "# order of columns\n",
    "cols = ['patientnumber', 'p_id', 'statepatientnumber', \n",
    "        'dateannounced', 'agebracket', 'gender', \n",
    "        'detectedcity', 'detecteddistrict', 'detectedstate', 'statecode', 'nationality',\n",
    "        'typeoftransmission', 'contractedfromwhichpatientsuspected',\n",
    "        'statuschangedate', 'currentstatus', 'source1', 'source2', 'source3', 'notes']\n",
    "\n",
    "# rearrange columns\n",
    "df = df[cols]\n",
    "\n",
    "# rename columns\n",
    "df.columns = ['patient_number', 'p_id', 'state_patient_number', \n",
    "              'date_announced', 'age_bracket', 'gender', \n",
    "              'detected_city', 'detected_district', 'detected_state', 'state_code', 'nationality',\n",
    "              'type_of_transmission', 'contracted_from_which_patient_suspected',\n",
    "              'status_change_date', 'current_status', 'source1', 'source2', 'source3', 'notes']\n",
    "\n",
    "# dataframe shape\n",
    "df.shape"
   ]
  },
  {
   "cell_type": "code",
   "execution_count": null,
   "metadata": {
    "id": "w5pUj6C06uhe"
   },
   "outputs": [],
   "source": [
    "# first 3 rows of the dataframe\n",
    "df.head(3)"
   ]
  },
  {
   "cell_type": "markdown",
   "metadata": {
    "id": "6C4naybB6uhm"
   },
   "source": [
    "### Missing values"
   ]
  },
  {
   "cell_type": "code",
   "execution_count": null,
   "metadata": {
    "id": "wnHxAVUy6uhp",
    "scrolled": true
   },
   "outputs": [],
   "source": [
    "# no. of empty values in each column\n",
    "# ==================================\n",
    "\n",
    "print(df.shape, '\\n')\n",
    "\n",
    "for i in df.columns:\n",
    "    print(i, '\\t', df[df[i]==''].shape[0])"
   ]
  },
  {
   "cell_type": "code",
   "execution_count": null,
   "metadata": {
    "id": "4z6jamAZ6uhw"
   },
   "outputs": [],
   "source": [
    "# no. of non-empty values in each column\n",
    "# ===================================\n",
    "\n",
    "print(df.shape, '\\n')\n",
    "\n",
    "for i in df.columns:\n",
    "    print(i, '\\t', df[df[i]!=''].shape[0])"
   ]
  },
  {
   "cell_type": "code",
   "execution_count": null,
   "metadata": {
    "id": "Y-E5V5m36uh2"
   },
   "outputs": [],
   "source": [
    "# replacing empty strings with np.nan\n",
    "# ==================================-\n",
    "\n",
    "print(df.shape)\n",
    "\n",
    "df = df.replace(r'', np.nan, regex=True)\n",
    "df.isna().sum()"
   ]
  },
  {
   "cell_type": "code",
   "execution_count": null,
   "metadata": {
    "id": "hBe9b_Ww6uh_"
   },
   "outputs": [],
   "source": [
    "# droping empty rows (row with just row number but without patient entry\n",
    "# ======================================================================\n",
    "\n",
    "print(df.shape)\n",
    "\n",
    "# df.dropna(subset=['detected_state'], inplace=True)\n",
    "\n",
    "print(df.shape)\n",
    "df.isna().sum()"
   ]
  },
  {
   "cell_type": "code",
   "execution_count": null,
   "metadata": {
    "id": "b0uh8RKgGzQ6"
   },
   "outputs": [],
   "source": []
  },
  {
   "cell_type": "markdown",
   "metadata": {
    "id": "x2vCoAJA6uiF"
   },
   "source": [
    "### Save data"
   ]
  },
  {
   "cell_type": "code",
   "execution_count": null,
   "metadata": {
    "id": "h_2wVwPk6uiH"
   },
   "outputs": [],
   "source": [
    "# save to csv`\n",
    "df.to_csv('patients_data.csv', index=False)"
   ]
  },
  {
   "cell_type": "markdown",
   "metadata": {
    "id": "TG-JRfGq6uig"
   },
   "source": [
    "## Collecting Some more Statewise Data"
   ]
  },
  {
   "cell_type": "code",
   "execution_count": null,
   "metadata": {
    "id": "pj2LAOTtMkDZ"
   },
   "outputs": [],
   "source": [
    "# get response from the web page\n",
    "response = requests.get('https://api.covid19india.org/state_test_data.json')\n",
    "\n",
    "# get contents from the response\n",
    "content = response.content\n",
    "\n",
    "# parse the json file\n",
    "parsed = json.loads(content)\n",
    "\n",
    "# keys\n",
    "parsed.keys()"
   ]
  },
  {
   "cell_type": "code",
   "execution_count": null,
   "metadata": {
    "id": "wKUYL9u86uii"
   },
   "outputs": [],
   "source": [
    "# get response from the web page\n",
    "response = requests.get('https://api.covid19india.org/state_test_data.json')\n",
    "\n",
    "# get contents from the response\n",
    "content = response.content\n",
    "\n",
    "# parse the json file\n",
    "parsed = json.loads(content)\n",
    "\n",
    "# keys\n",
    "parsed.keys()"
   ]
  },
  {
   "cell_type": "code",
   "execution_count": null,
   "metadata": {
    "id": "vyVMhJ4m6uiy"
   },
   "outputs": [],
   "source": [
    "# save data in a dataframe\n",
    "th = pd.DataFrame(parsed['states_tested_data'])\n",
    "\n",
    "# first few rows\n",
    "th"
   ]
  },
  {
   "cell_type": "code",
   "execution_count": null,
   "metadata": {
    "id": "LEjnevDB6ui4"
   },
   "outputs": [],
   "source": [
    "th.columns"
   ]
  },
  {
   "cell_type": "code",
   "execution_count": null,
   "metadata": {
    "id": "f4rS0cgS6ujo"
   },
   "outputs": [],
   "source": [
    "# save to csv`\n",
    "th.to_csv('tests_latest_state_level.csv', index=False)"
   ]
  },
  {
   "cell_type": "code",
   "execution_count": null,
   "metadata": {
    "id": "tHdGcXzVzpbH"
   },
   "outputs": [],
   "source": [
    "# to get web contents\n",
    "import requests\n",
    "# to parse json contents\n",
    "import json\n",
    "# to parse csv files\n",
    "import csv"
   ]
  },
  {
   "cell_type": "code",
   "execution_count": null,
   "metadata": {
    "id": "unJ-UO3S-C2T"
   },
   "outputs": [],
   "source": []
  },
  {
   "cell_type": "markdown",
   "metadata": {
    "id": "4SimdWJX6ukA"
   },
   "source": [
    "## Zones"
   ]
  },
  {
   "cell_type": "code",
   "execution_count": null,
   "metadata": {
    "id": "vOg9Pozn6ukB"
   },
   "outputs": [],
   "source": [
    "# get response from the web page\n",
    "response = requests.get('https://api.covid19india.org/zones.json')\n",
    "\n",
    "# get contents from the response\n",
    "content = response.content\n",
    "\n",
    "# parse the json file\n",
    "parsed = json.loads(content)\n",
    "\n",
    "# keys\n",
    "parsed.keys()"
   ]
  },
  {
   "cell_type": "code",
   "execution_count": null,
   "metadata": {
    "id": "Z3i_t1jD6ukI",
    "scrolled": true
   },
   "outputs": [],
   "source": [
    "zo = pd.DataFrame(parsed['zones'])\n",
    "zo.head()"
   ]
  },
  {
   "cell_type": "code",
   "execution_count": null,
   "metadata": {
    "id": "AI8FldFo6ukU"
   },
   "outputs": [],
   "source": [
    "# save to csv`\n",
    "zo.to_csv('zones.csv', index=False)"
   ]
  },
  {
   "cell_type": "markdown",
   "metadata": {
    "id": "y-CMpHl16ukp"
   },
   "source": [
    "## National level daily"
   ]
  },
  {
   "cell_type": "code",
   "execution_count": null,
   "metadata": {
    "id": "XcsbGYvE6ukq"
   },
   "outputs": [],
   "source": [
    "response = requests.get('https://api.covid19india.org/data.json')\n",
    "content = response.content\n",
    "parsed = json.loads(content)\n",
    "parsed.keys()"
   ]
  },
  {
   "cell_type": "code",
   "execution_count": null,
   "metadata": {
    "id": "f8Rsh51q6ukx"
   },
   "outputs": [],
   "source": [
    "national = pd.DataFrame(parsed['cases_time_series'])\n",
    "national.head()"
   ]
  },
  {
   "cell_type": "code",
   "execution_count": null,
   "metadata": {
    "id": "OpqULg2_6uk3"
   },
   "outputs": [],
   "source": [
    "national.columns"
   ]
  },
  {
   "cell_type": "code",
   "execution_count": null,
   "metadata": {
    "id": "3NpEFRL26ulC"
   },
   "outputs": [],
   "source": [
    "national = national[['date', 'totalconfirmed', 'totaldeceased', 'totalrecovered', \n",
    "                     'dailyconfirmed', 'dailydeceased', 'dailyrecovered']]\n",
    "national.head()"
   ]
  },
  {
   "cell_type": "code",
   "execution_count": null,
   "metadata": {
    "id": "VxXPGMKv6ulI"
   },
   "outputs": [],
   "source": [
    "# save to csv`\n",
    "national.to_csv('nation_level_daily.csv', index=False)"
   ]
  },
  {
   "cell_type": "markdown",
   "metadata": {
    "id": "aIzy0fzC6ulg"
   },
   "source": [
    "## National level latest"
   ]
  },
  {
   "cell_type": "code",
   "execution_count": null,
   "metadata": {
    "id": "F1I4IiN16uli"
   },
   "outputs": [],
   "source": [
    "state_level = pd.DataFrame(parsed['statewise'])\n",
    "state_level.head()"
   ]
  },
  {
   "cell_type": "code",
   "execution_count": null,
   "metadata": {
    "id": "pn2pqX9V6ulo"
   },
   "outputs": [],
   "source": [
    "state_level.columns"
   ]
  },
  {
   "cell_type": "code",
   "execution_count": null,
   "metadata": {
    "id": "uKJbgAJP6ulu"
   },
   "outputs": [],
   "source": [
    "state_level = state_level[['state', 'statecode', 'lastupdatedtime',  \n",
    "                           'confirmed', 'active', 'deaths', 'recovered',\n",
    "                           'deltaconfirmed', 'deltadeaths', 'deltarecovered', 'statenotes']]\n",
    "state_level.head()"
   ]
  },
  {
   "cell_type": "code",
   "execution_count": null,
   "metadata": {
    "id": "S4zXbnAx6ul1"
   },
   "outputs": [],
   "source": [
    "# save to csv`\n",
    "state_level.to_csv('state_level_latest.csv', index=False)"
   ]
  },
  {
   "cell_type": "code",
   "execution_count": null,
   "metadata": {
    "id": "M2wgBNcQi1M7"
   },
   "outputs": [],
   "source": []
  }
 ],
 "metadata": {
  "accelerator": "TPU",
  "colab": {
   "collapsed_sections": [
    "KW3k0TQcFEO4",
    "tA2o-l9lGNR8",
    "BIrfT70K5e5g",
    "4SimdWJX6ukA",
    "y-CMpHl16ukp",
    "aIzy0fzC6ulg"
   ],
   "provenance": []
  },
  "kernelspec": {
   "display_name": "Python 3 (ipykernel)",
   "language": "python",
   "name": "python3"
  },
  "language_info": {
   "codemirror_mode": {
    "name": "ipython",
    "version": 3
   },
   "file_extension": ".py",
   "mimetype": "text/x-python",
   "name": "python",
   "nbconvert_exporter": "python",
   "pygments_lexer": "ipython3",
   "version": "3.9.6"
  }
 },
 "nbformat": 4,
 "nbformat_minor": 1
}
